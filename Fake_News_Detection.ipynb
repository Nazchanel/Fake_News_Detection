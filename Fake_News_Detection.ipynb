{
  "nbformat": 4,
  "nbformat_minor": 5,
  "metadata": {
    "kernelspec": {
      "display_name": "Python 3",
      "language": "python",
      "name": "python3"
    },
    "language_info": {
      "codemirror_mode": {
        "name": "ipython",
        "version": 3
      },
      "file_extension": ".py",
      "mimetype": "text/x-python",
      "name": "python",
      "nbconvert_exporter": "python",
      "pygments_lexer": "ipython3",
      "version": "3.8.8"
    },
    "colab": {
      "name": "Fake_News_Detection.ipynb",
      "provenance": [],
      "collapsed_sections": [
        "w-3Tiq-RE0lR",
        "KiABEVIpdnU_",
        "_2GrAX6dFDaj",
        "k4L86qFcsIBN",
        "xH90O5dLsoFw",
        "RJyyJVx2F8Q-",
        "cLFLEmsjuL09",
        "onKbR5wwnBrn",
        "-VQaa3N2fJfu",
        "BbCnT2kjs1NN",
        "ISEb-V2eF_9V",
        "4JE4nlvQld0J"
      ],
      "toc_visible": true,
      "include_colab_link": true
    }
  },
  "cells": [
    {
      "cell_type": "markdown",
      "metadata": {
        "id": "view-in-github",
        "colab_type": "text"
      },
      "source": [
        "<a href=\"https://colab.research.google.com/github/Nazchanel/Fake_News_Detection/blob/main/Fake_News_Detection.ipynb\" target=\"_parent\"><img src=\"https://colab.research.google.com/assets/colab-badge.svg\" alt=\"Open In Colab\"/></a>"
      ]
    },
    {
      "cell_type": "markdown",
      "metadata": {
        "id": "Ll7buo2oqBH0"
      },
      "source": [
        "# **Import/Preprocessing (training)**\n",
        "\n"
      ],
      "id": "Ll7buo2oqBH0"
    },
    {
      "cell_type": "markdown",
      "metadata": {
        "id": "w-3Tiq-RE0lR"
      },
      "source": [
        "## Import/CSV processing"
      ],
      "id": "w-3Tiq-RE0lR"
    },
    {
      "cell_type": "code",
      "metadata": {
        "colab": {
          "base_uri": "https://localhost:8080/"
        },
        "id": "2edd6975",
        "cellView": "code",
        "outputId": "e3bcf233-fa64-4d4a-960d-35c66dcfbfa0"
      },
      "source": [
        "import sys  \n",
        "!{sys.executable} -m pip install contractions"
      ],
      "id": "2edd6975",
      "execution_count": 2,
      "outputs": [
        {
          "output_type": "stream",
          "text": [
            "Collecting contractions\n",
            "  Downloading contractions-0.0.52-py2.py3-none-any.whl (7.2 kB)\n",
            "Collecting textsearch>=0.0.21\n",
            "  Downloading textsearch-0.0.21-py2.py3-none-any.whl (7.5 kB)\n",
            "Collecting anyascii\n",
            "  Downloading anyascii-0.2.0-py3-none-any.whl (283 kB)\n",
            "\u001b[K     |████████████████████████████████| 283 kB 5.1 MB/s \n",
            "\u001b[?25hCollecting pyahocorasick\n",
            "  Downloading pyahocorasick-1.4.2.tar.gz (321 kB)\n",
            "\u001b[K     |████████████████████████████████| 321 kB 39.8 MB/s \n",
            "\u001b[?25hBuilding wheels for collected packages: pyahocorasick\n",
            "  Building wheel for pyahocorasick (setup.py) ... \u001b[?25l\u001b[?25hdone\n",
            "  Created wheel for pyahocorasick: filename=pyahocorasick-1.4.2-cp37-cp37m-linux_x86_64.whl size=85441 sha256=1eeb11b0dcd7e489b850604870d1ae17e068b7aa85c848522a4b5cf15f7eb125\n",
            "  Stored in directory: /root/.cache/pip/wheels/25/19/a6/8f363d9939162782bb8439d886469756271abc01f76fbd790f\n",
            "Successfully built pyahocorasick\n",
            "Installing collected packages: pyahocorasick, anyascii, textsearch, contractions\n",
            "Successfully installed anyascii-0.2.0 contractions-0.0.52 pyahocorasick-1.4.2 textsearch-0.0.21\n"
          ],
          "name": "stdout"
        }
      ]
    },
    {
      "cell_type": "code",
      "metadata": {
        "colab": {
          "base_uri": "https://localhost:8080/"
        },
        "id": "ad92a31c",
        "outputId": "d6db90d3-5db1-465e-cb11-bf5b47c9ed7b"
      },
      "source": [
        "from sklearn.model_selection import train_test_split\n",
        "import pandas as pd\n",
        "import numpy as np\n",
        "import os\n",
        "import contractions as cot\n",
        "from sklearn.feature_extraction.text import TfidfVectorizer\n",
        "import string\n",
        "import re\n",
        "import nltk\n",
        "nltk.download('stopwords')\n",
        "stopword = nltk.corpus.stopwords.words('english')\n",
        "# Downloads library of stopwords\n",
        "from nltk.tokenize import word_tokenize\n",
        "from nltk.corpus import stopwords\n",
        "nltk.download('punkt')\n",
        "import matplotlib.pyplot as plt\n",
        "from sklearn.feature_extraction.text import TfidfTransformer\n",
        "from sklearn.pipeline import Pipeline\n",
        "from google.colab import drive\n",
        "drive.mount('/content/drive') # Allows us to access the data\n",
        "os.chdir(\"/content/drive/MyDrive/FakeNews\") # Changes the directory to the folder with the csv files"
      ],
      "id": "ad92a31c",
      "execution_count": 3,
      "outputs": [
        {
          "output_type": "stream",
          "text": [
            "[nltk_data] Downloading package stopwords to /root/nltk_data...\n",
            "[nltk_data]   Unzipping corpora/stopwords.zip.\n",
            "[nltk_data] Downloading package punkt to /root/nltk_data...\n",
            "[nltk_data]   Unzipping tokenizers/punkt.zip.\n",
            "Mounted at /content/drive\n"
          ],
          "name": "stdout"
        }
      ]
    },
    {
      "cell_type": "code",
      "metadata": {
        "id": "ddecb54c"
      },
      "source": [
        "fn = pd.read_csv(\"Fake.csv\")\n",
        "tn = pd.read_csv(\"True.csv\")\n",
        "fn['truth'] = 0 # Makes a column of 0s marking the data false \n",
        "tn['truth'] = 1 # Makes a column of 1s marking the data true "
      ],
      "id": "ddecb54c",
      "execution_count": 4,
      "outputs": []
    },
    {
      "cell_type": "code",
      "metadata": {
        "id": "XBXrd_7mdp8r"
      },
      "source": [
        "tn.drop_duplicates(inplace=True)\n",
        "fn.drop_duplicates(inplace=True)"
      ],
      "id": "XBXrd_7mdp8r",
      "execution_count": 5,
      "outputs": []
    },
    {
      "cell_type": "code",
      "metadata": {
        "id": "5s5Hk98y8teM"
      },
      "source": [
        "# Import and processing/cleaning of the dataframe\n",
        "extra = pd.read_csv(\"/content/drive/MyDrive/archive8/politifact.csv\")\n",
        "\n",
        "# Drops the columns and rows that are not relevant\n",
        "extra = extra.drop(columns=['Unnamed: 0', 'sources', 'sources_dates', 'sources_post_location', 'curator_name', 'curated_date', 'curators_article_title','curator_complete_article', 'curator_tags','sources_url'])\n",
        "extra.drop_duplicates(inplace=True)\n",
        "extra.dropna(inplace=True)\n",
        "\n",
        "# Replaces the truths we want with their corresponding binary value \n",
        "extra['fact'].replace(['false', \"pants-fire\"], 0, inplace=True)\n",
        "extra['fact'].replace(['true', 'mostly-true'], 1, inplace=True)\n",
        "\n",
        "# Drops the rows of the truths we don't need \n",
        "extra.drop(extra.loc[extra['fact']==\"half-true\"].index, inplace=True)\n",
        "extra.drop(extra.loc[extra['fact']==\"barely-true\"].index, inplace=True)\n",
        "extra.drop(extra.loc[extra['fact']==\"full-flop\"].index, inplace=True)\n",
        "extra.drop(extra.loc[extra['fact']==\"half-flip\"].index, inplace=True)\n",
        "extra.drop(extra.loc[extra['fact']==\"no-flip\"].index, inplace=True)\n",
        "\n",
        "extra.rename(columns={'sources_quote': 'title', 'fact':'truth'},inplace=True)"
      ],
      "id": "5s5Hk98y8teM",
      "execution_count": 6,
      "outputs": []
    },
    {
      "cell_type": "code",
      "metadata": {
        "id": "fDc-sfW58RU3",
        "colab": {
          "base_uri": "https://localhost:8080/",
          "height": 204
        },
        "outputId": "73d869cd-665b-4e84-d45f-2ec26d73722e"
      },
      "source": [
        "# Removes the \\n's in the DataFrame\n",
        "def remove_lines(text):\n",
        "  text = text.strip(\"\\n\")\n",
        "  return text\n",
        "extra['title'] = extra['title'].apply(lambda x:remove_lines(x))\n",
        "\n",
        "extra['text'] = extra['title']\n",
        "extra.head()"
      ],
      "id": "fDc-sfW58RU3",
      "execution_count": 7,
      "outputs": [
        {
          "output_type": "execute_result",
          "data": {
            "text/html": [
              "<div>\n",
              "<style scoped>\n",
              "    .dataframe tbody tr th:only-of-type {\n",
              "        vertical-align: middle;\n",
              "    }\n",
              "\n",
              "    .dataframe tbody tr th {\n",
              "        vertical-align: top;\n",
              "    }\n",
              "\n",
              "    .dataframe thead th {\n",
              "        text-align: right;\n",
              "    }\n",
              "</style>\n",
              "<table border=\"1\" class=\"dataframe\">\n",
              "  <thead>\n",
              "    <tr style=\"text-align: right;\">\n",
              "      <th></th>\n",
              "      <th>title</th>\n",
              "      <th>truth</th>\n",
              "      <th>text</th>\n",
              "    </tr>\n",
              "  </thead>\n",
              "  <tbody>\n",
              "    <tr>\n",
              "      <th>0</th>\n",
              "      <td>Says Disneyland is enforcing a “no scream” pol...</td>\n",
              "      <td>0</td>\n",
              "      <td>Says Disneyland is enforcing a “no scream” pol...</td>\n",
              "    </tr>\n",
              "    <tr>\n",
              "      <th>1</th>\n",
              "      <td>Video “proves 100% that President Joe Biden is...</td>\n",
              "      <td>0</td>\n",
              "      <td>Video “proves 100% that President Joe Biden is...</td>\n",
              "    </tr>\n",
              "    <tr>\n",
              "      <th>2</th>\n",
              "      <td>“If you look at the average teacher pay compar...</td>\n",
              "      <td>1</td>\n",
              "      <td>“If you look at the average teacher pay compar...</td>\n",
              "    </tr>\n",
              "    <tr>\n",
              "      <th>5</th>\n",
              "      <td>“Pelosi’s $1.9 trillion bailout gives EVERY fe...</td>\n",
              "      <td>0</td>\n",
              "      <td>“Pelosi’s $1.9 trillion bailout gives EVERY fe...</td>\n",
              "    </tr>\n",
              "    <tr>\n",
              "      <th>6</th>\n",
              "      <td>“Black Lives Matter of Atlanta Charged with Wi...</td>\n",
              "      <td>0</td>\n",
              "      <td>“Black Lives Matter of Atlanta Charged with Wi...</td>\n",
              "    </tr>\n",
              "  </tbody>\n",
              "</table>\n",
              "</div>"
            ],
            "text/plain": [
              "                                               title  ...                                               text\n",
              "0  Says Disneyland is enforcing a “no scream” pol...  ...  Says Disneyland is enforcing a “no scream” pol...\n",
              "1  Video “proves 100% that President Joe Biden is...  ...  Video “proves 100% that President Joe Biden is...\n",
              "2  “If you look at the average teacher pay compar...  ...  “If you look at the average teacher pay compar...\n",
              "5  “Pelosi’s $1.9 trillion bailout gives EVERY fe...  ...  “Pelosi’s $1.9 trillion bailout gives EVERY fe...\n",
              "6  “Black Lives Matter of Atlanta Charged with Wi...  ...  “Black Lives Matter of Atlanta Charged with Wi...\n",
              "\n",
              "[5 rows x 3 columns]"
            ]
          },
          "metadata": {
            "tags": []
          },
          "execution_count": 7
        }
      ]
    },
    {
      "cell_type": "code",
      "metadata": {
        "colab": {
          "base_uri": "https://localhost:8080/",
          "height": 204
        },
        "id": "AxVojh9OPrAq",
        "outputId": "bfb176b7-d8a7-425c-aa4b-a85d9c8b4825"
      },
      "source": [
        "# IMPORTANT: Balances the data; making the value higher will lean the program \n",
        "# to predict true, lower is the opposite\n",
        "\n",
        "fn = fn[:-2000]\n",
        "fn.head()"
      ],
      "id": "AxVojh9OPrAq",
      "execution_count": 8,
      "outputs": [
        {
          "output_type": "execute_result",
          "data": {
            "text/html": [
              "<div>\n",
              "<style scoped>\n",
              "    .dataframe tbody tr th:only-of-type {\n",
              "        vertical-align: middle;\n",
              "    }\n",
              "\n",
              "    .dataframe tbody tr th {\n",
              "        vertical-align: top;\n",
              "    }\n",
              "\n",
              "    .dataframe thead th {\n",
              "        text-align: right;\n",
              "    }\n",
              "</style>\n",
              "<table border=\"1\" class=\"dataframe\">\n",
              "  <thead>\n",
              "    <tr style=\"text-align: right;\">\n",
              "      <th></th>\n",
              "      <th>title</th>\n",
              "      <th>text</th>\n",
              "      <th>subject</th>\n",
              "      <th>date</th>\n",
              "      <th>truth</th>\n",
              "    </tr>\n",
              "  </thead>\n",
              "  <tbody>\n",
              "    <tr>\n",
              "      <th>0</th>\n",
              "      <td>Donald Trump Sends Out Embarrassing New Year’...</td>\n",
              "      <td>Donald Trump just couldn t wish all Americans ...</td>\n",
              "      <td>News</td>\n",
              "      <td>December 31, 2017</td>\n",
              "      <td>0</td>\n",
              "    </tr>\n",
              "    <tr>\n",
              "      <th>1</th>\n",
              "      <td>Drunk Bragging Trump Staffer Started Russian ...</td>\n",
              "      <td>House Intelligence Committee Chairman Devin Nu...</td>\n",
              "      <td>News</td>\n",
              "      <td>December 31, 2017</td>\n",
              "      <td>0</td>\n",
              "    </tr>\n",
              "    <tr>\n",
              "      <th>2</th>\n",
              "      <td>Sheriff David Clarke Becomes An Internet Joke...</td>\n",
              "      <td>On Friday, it was revealed that former Milwauk...</td>\n",
              "      <td>News</td>\n",
              "      <td>December 30, 2017</td>\n",
              "      <td>0</td>\n",
              "    </tr>\n",
              "    <tr>\n",
              "      <th>3</th>\n",
              "      <td>Trump Is So Obsessed He Even Has Obama’s Name...</td>\n",
              "      <td>On Christmas day, Donald Trump announced that ...</td>\n",
              "      <td>News</td>\n",
              "      <td>December 29, 2017</td>\n",
              "      <td>0</td>\n",
              "    </tr>\n",
              "    <tr>\n",
              "      <th>4</th>\n",
              "      <td>Pope Francis Just Called Out Donald Trump Dur...</td>\n",
              "      <td>Pope Francis used his annual Christmas Day mes...</td>\n",
              "      <td>News</td>\n",
              "      <td>December 25, 2017</td>\n",
              "      <td>0</td>\n",
              "    </tr>\n",
              "  </tbody>\n",
              "</table>\n",
              "</div>"
            ],
            "text/plain": [
              "                                               title  ... truth\n",
              "0   Donald Trump Sends Out Embarrassing New Year’...  ...     0\n",
              "1   Drunk Bragging Trump Staffer Started Russian ...  ...     0\n",
              "2   Sheriff David Clarke Becomes An Internet Joke...  ...     0\n",
              "3   Trump Is So Obsessed He Even Has Obama’s Name...  ...     0\n",
              "4   Pope Francis Just Called Out Donald Trump Dur...  ...     0\n",
              "\n",
              "[5 rows x 5 columns]"
            ]
          },
          "metadata": {
            "tags": []
          },
          "execution_count": 8
        }
      ]
    },
    {
      "cell_type": "code",
      "metadata": {
        "id": "2O5SYeYUQLu_"
      },
      "source": [
        "fn.rename(columns={0: \"title\", 1: \"text\", 2: \"subject\", 3: \"date\", 4: \"truth\" }, inplace=True)"
      ],
      "id": "2O5SYeYUQLu_",
      "execution_count": 9,
      "outputs": []
    },
    {
      "cell_type": "code",
      "metadata": {
        "id": "V9M-s0VvCwjE"
      },
      "source": [
        "news = pd.concat([tn, fn, extra], axis=0, ignore_index=True) # Combines the dataframes so its easier to work with\n"
      ],
      "id": "V9M-s0VvCwjE",
      "execution_count": 10,
      "outputs": []
    },
    {
      "cell_type": "code",
      "metadata": {
        "id": "2811eade"
      },
      "source": [
        "news.drop_duplicates(inplace=True) # Drops any leftover duplicates"
      ],
      "id": "2811eade",
      "execution_count": 11,
      "outputs": []
    },
    {
      "cell_type": "code",
      "metadata": {
        "colab": {
          "base_uri": "https://localhost:8080/"
        },
        "id": "omJ9-iuUQVEK",
        "outputId": "facb270e-d84f-46a7-fcf9-f47c33021109"
      },
      "source": [
        "news[\"truth\"].value_counts()"
      ],
      "id": "omJ9-iuUQVEK",
      "execution_count": 12,
      "outputs": [
        {
          "output_type": "execute_result",
          "data": {
            "text/plain": [
              "0    28388\n",
              "1    26850\n",
              "Name: truth, dtype: int64"
            ]
          },
          "metadata": {
            "tags": []
          },
          "execution_count": 12
        }
      ]
    },
    {
      "cell_type": "code",
      "metadata": {
        "colab": {
          "base_uri": "https://localhost:8080/",
          "height": 204
        },
        "id": "JhqOqmVhEyhN",
        "outputId": "1f3513b1-7c6f-466f-8cb5-6cb616c41a97"
      },
      "source": [
        "news.head()"
      ],
      "id": "JhqOqmVhEyhN",
      "execution_count": 13,
      "outputs": [
        {
          "output_type": "execute_result",
          "data": {
            "text/html": [
              "<div>\n",
              "<style scoped>\n",
              "    .dataframe tbody tr th:only-of-type {\n",
              "        vertical-align: middle;\n",
              "    }\n",
              "\n",
              "    .dataframe tbody tr th {\n",
              "        vertical-align: top;\n",
              "    }\n",
              "\n",
              "    .dataframe thead th {\n",
              "        text-align: right;\n",
              "    }\n",
              "</style>\n",
              "<table border=\"1\" class=\"dataframe\">\n",
              "  <thead>\n",
              "    <tr style=\"text-align: right;\">\n",
              "      <th></th>\n",
              "      <th>title</th>\n",
              "      <th>text</th>\n",
              "      <th>subject</th>\n",
              "      <th>date</th>\n",
              "      <th>truth</th>\n",
              "    </tr>\n",
              "  </thead>\n",
              "  <tbody>\n",
              "    <tr>\n",
              "      <th>0</th>\n",
              "      <td>As U.S. budget fight looms, Republicans flip t...</td>\n",
              "      <td>WASHINGTON (Reuters) - The head of a conservat...</td>\n",
              "      <td>politicsNews</td>\n",
              "      <td>December 31, 2017</td>\n",
              "      <td>1</td>\n",
              "    </tr>\n",
              "    <tr>\n",
              "      <th>1</th>\n",
              "      <td>U.S. military to accept transgender recruits o...</td>\n",
              "      <td>WASHINGTON (Reuters) - Transgender people will...</td>\n",
              "      <td>politicsNews</td>\n",
              "      <td>December 29, 2017</td>\n",
              "      <td>1</td>\n",
              "    </tr>\n",
              "    <tr>\n",
              "      <th>2</th>\n",
              "      <td>Senior U.S. Republican senator: 'Let Mr. Muell...</td>\n",
              "      <td>WASHINGTON (Reuters) - The special counsel inv...</td>\n",
              "      <td>politicsNews</td>\n",
              "      <td>December 31, 2017</td>\n",
              "      <td>1</td>\n",
              "    </tr>\n",
              "    <tr>\n",
              "      <th>3</th>\n",
              "      <td>FBI Russia probe helped by Australian diplomat...</td>\n",
              "      <td>WASHINGTON (Reuters) - Trump campaign adviser ...</td>\n",
              "      <td>politicsNews</td>\n",
              "      <td>December 30, 2017</td>\n",
              "      <td>1</td>\n",
              "    </tr>\n",
              "    <tr>\n",
              "      <th>4</th>\n",
              "      <td>Trump wants Postal Service to charge 'much mor...</td>\n",
              "      <td>SEATTLE/WASHINGTON (Reuters) - President Donal...</td>\n",
              "      <td>politicsNews</td>\n",
              "      <td>December 29, 2017</td>\n",
              "      <td>1</td>\n",
              "    </tr>\n",
              "  </tbody>\n",
              "</table>\n",
              "</div>"
            ],
            "text/plain": [
              "                                               title  ... truth\n",
              "0  As U.S. budget fight looms, Republicans flip t...  ...     1\n",
              "1  U.S. military to accept transgender recruits o...  ...     1\n",
              "2  Senior U.S. Republican senator: 'Let Mr. Muell...  ...     1\n",
              "3  FBI Russia probe helped by Australian diplomat...  ...     1\n",
              "4  Trump wants Postal Service to charge 'much mor...  ...     1\n",
              "\n",
              "[5 rows x 5 columns]"
            ]
          },
          "metadata": {
            "tags": []
          },
          "execution_count": 13
        }
      ]
    },
    {
      "cell_type": "markdown",
      "metadata": {
        "id": "fhEvCddFErPf"
      },
      "source": [
        "## Preprocessing\n"
      ],
      "id": "fhEvCddFErPf"
    },
    {
      "cell_type": "code",
      "metadata": {
        "colab": {
          "base_uri": "https://localhost:8080/",
          "height": 0
        },
        "id": "ffe2c626",
        "outputId": "ba2bd2f9-5a2f-4f73-f81b-d4d67aee3b5f"
      },
      "source": [
        "def remove_contractions(text):\n",
        "  fixed_word = []\n",
        "  for word in text.split():\n",
        "    fixed_word.append(cot.fix(word))\n",
        "  counter = 0\n",
        "  for i in fixed_word:\n",
        "    if i != fixed_word[0]:\n",
        "      counter+=1\n",
        "    if i == \"you.S.\":\n",
        "      fixed_word[counter] = \"u.s.\"\n",
        "    if i == \"yous\":\n",
        "      fixed_word[counter] = \"u.s.\"\n",
        "  fixed_whole =' '.join(fixed_word)\n",
        "  return fixed_whole\n",
        "\n",
        "# Applies the functions with lambda to do the stated function\n",
        "news['title_wo_contra']=news['title'].apply(lambda x: remove_contractions(x))\n",
        "news['text_wo_contra']=news['text'].apply(lambda x: remove_contractions(x))\n",
        "news.head()"
      ],
      "id": "ffe2c626",
      "execution_count": 14,
      "outputs": [
        {
          "output_type": "execute_result",
          "data": {
            "text/html": [
              "<div>\n",
              "<style scoped>\n",
              "    .dataframe tbody tr th:only-of-type {\n",
              "        vertical-align: middle;\n",
              "    }\n",
              "\n",
              "    .dataframe tbody tr th {\n",
              "        vertical-align: top;\n",
              "    }\n",
              "\n",
              "    .dataframe thead th {\n",
              "        text-align: right;\n",
              "    }\n",
              "</style>\n",
              "<table border=\"1\" class=\"dataframe\">\n",
              "  <thead>\n",
              "    <tr style=\"text-align: right;\">\n",
              "      <th></th>\n",
              "      <th>title</th>\n",
              "      <th>text</th>\n",
              "      <th>subject</th>\n",
              "      <th>date</th>\n",
              "      <th>truth</th>\n",
              "      <th>title_wo_contra</th>\n",
              "      <th>text_wo_contra</th>\n",
              "    </tr>\n",
              "  </thead>\n",
              "  <tbody>\n",
              "    <tr>\n",
              "      <th>0</th>\n",
              "      <td>As U.S. budget fight looms, Republicans flip t...</td>\n",
              "      <td>WASHINGTON (Reuters) - The head of a conservat...</td>\n",
              "      <td>politicsNews</td>\n",
              "      <td>December 31, 2017</td>\n",
              "      <td>1</td>\n",
              "      <td>As u.s. budget fight looms, Republicans flip t...</td>\n",
              "      <td>WASHINGTON (Reuters) - The head of a conservat...</td>\n",
              "    </tr>\n",
              "    <tr>\n",
              "      <th>1</th>\n",
              "      <td>U.S. military to accept transgender recruits o...</td>\n",
              "      <td>WASHINGTON (Reuters) - Transgender people will...</td>\n",
              "      <td>politicsNews</td>\n",
              "      <td>December 29, 2017</td>\n",
              "      <td>1</td>\n",
              "      <td>u.s. military to accept transgender recruits o...</td>\n",
              "      <td>WASHINGTON (Reuters) - Transgender people will...</td>\n",
              "    </tr>\n",
              "    <tr>\n",
              "      <th>2</th>\n",
              "      <td>Senior U.S. Republican senator: 'Let Mr. Muell...</td>\n",
              "      <td>WASHINGTON (Reuters) - The special counsel inv...</td>\n",
              "      <td>politicsNews</td>\n",
              "      <td>December 31, 2017</td>\n",
              "      <td>1</td>\n",
              "      <td>Senior u.s. Republican senator: 'Let Mr. Muell...</td>\n",
              "      <td>WASHINGTON (Reuters) - The special counsel inv...</td>\n",
              "    </tr>\n",
              "    <tr>\n",
              "      <th>3</th>\n",
              "      <td>FBI Russia probe helped by Australian diplomat...</td>\n",
              "      <td>WASHINGTON (Reuters) - Trump campaign adviser ...</td>\n",
              "      <td>politicsNews</td>\n",
              "      <td>December 30, 2017</td>\n",
              "      <td>1</td>\n",
              "      <td>FBI Russia probe helped by Australian diplomat...</td>\n",
              "      <td>WASHINGTON (Reuters) - Trump campaign adviser ...</td>\n",
              "    </tr>\n",
              "    <tr>\n",
              "      <th>4</th>\n",
              "      <td>Trump wants Postal Service to charge 'much mor...</td>\n",
              "      <td>SEATTLE/WASHINGTON (Reuters) - President Donal...</td>\n",
              "      <td>politicsNews</td>\n",
              "      <td>December 29, 2017</td>\n",
              "      <td>1</td>\n",
              "      <td>Trump wants Postal Service to charge 'much mor...</td>\n",
              "      <td>SEATTLE/WASHINGTON (Reuters) - President Donal...</td>\n",
              "    </tr>\n",
              "  </tbody>\n",
              "</table>\n",
              "</div>"
            ],
            "text/plain": [
              "                                               title  ...                                     text_wo_contra\n",
              "0  As U.S. budget fight looms, Republicans flip t...  ...  WASHINGTON (Reuters) - The head of a conservat...\n",
              "1  U.S. military to accept transgender recruits o...  ...  WASHINGTON (Reuters) - Transgender people will...\n",
              "2  Senior U.S. Republican senator: 'Let Mr. Muell...  ...  WASHINGTON (Reuters) - The special counsel inv...\n",
              "3  FBI Russia probe helped by Australian diplomat...  ...  WASHINGTON (Reuters) - Trump campaign adviser ...\n",
              "4  Trump wants Postal Service to charge 'much mor...  ...  SEATTLE/WASHINGTON (Reuters) - President Donal...\n",
              "\n",
              "[5 rows x 7 columns]"
            ]
          },
          "metadata": {
            "tags": []
          },
          "execution_count": 14
        }
      ]
    },
    {
      "cell_type": "code",
      "metadata": {
        "colab": {
          "base_uri": "https://localhost:8080/",
          "height": 0
        },
        "id": "qTd7otk29ziM",
        "outputId": "6c32ca4f-9955-4466-ad58-fcced0ee1ba8"
      },
      "source": [
        "def remove_punctuation(text):\n",
        "    no_punct=[words for words in text if words not in string.punctuation]\n",
        "    words_wo_punct=''.join(no_punct)\n",
        "    return words_wo_punct\n",
        "\n",
        "# Applies the functions with lambda to do the stated function\n",
        "news['title_wo_punct']=news['title_wo_contra'].apply(lambda x: remove_punctuation(x))\n",
        "news['text_wo_punct']=news['text_wo_contra'].apply(lambda x: remove_punctuation(x))\n",
        "news.head()"
      ],
      "id": "qTd7otk29ziM",
      "execution_count": 15,
      "outputs": [
        {
          "output_type": "execute_result",
          "data": {
            "text/html": [
              "<div>\n",
              "<style scoped>\n",
              "    .dataframe tbody tr th:only-of-type {\n",
              "        vertical-align: middle;\n",
              "    }\n",
              "\n",
              "    .dataframe tbody tr th {\n",
              "        vertical-align: top;\n",
              "    }\n",
              "\n",
              "    .dataframe thead th {\n",
              "        text-align: right;\n",
              "    }\n",
              "</style>\n",
              "<table border=\"1\" class=\"dataframe\">\n",
              "  <thead>\n",
              "    <tr style=\"text-align: right;\">\n",
              "      <th></th>\n",
              "      <th>title</th>\n",
              "      <th>text</th>\n",
              "      <th>subject</th>\n",
              "      <th>date</th>\n",
              "      <th>truth</th>\n",
              "      <th>title_wo_contra</th>\n",
              "      <th>text_wo_contra</th>\n",
              "      <th>title_wo_punct</th>\n",
              "      <th>text_wo_punct</th>\n",
              "    </tr>\n",
              "  </thead>\n",
              "  <tbody>\n",
              "    <tr>\n",
              "      <th>0</th>\n",
              "      <td>As U.S. budget fight looms, Republicans flip t...</td>\n",
              "      <td>WASHINGTON (Reuters) - The head of a conservat...</td>\n",
              "      <td>politicsNews</td>\n",
              "      <td>December 31, 2017</td>\n",
              "      <td>1</td>\n",
              "      <td>As u.s. budget fight looms, Republicans flip t...</td>\n",
              "      <td>WASHINGTON (Reuters) - The head of a conservat...</td>\n",
              "      <td>As us budget fight looms Republicans flip thei...</td>\n",
              "      <td>WASHINGTON Reuters  The head of a conservative...</td>\n",
              "    </tr>\n",
              "    <tr>\n",
              "      <th>1</th>\n",
              "      <td>U.S. military to accept transgender recruits o...</td>\n",
              "      <td>WASHINGTON (Reuters) - Transgender people will...</td>\n",
              "      <td>politicsNews</td>\n",
              "      <td>December 29, 2017</td>\n",
              "      <td>1</td>\n",
              "      <td>u.s. military to accept transgender recruits o...</td>\n",
              "      <td>WASHINGTON (Reuters) - Transgender people will...</td>\n",
              "      <td>us military to accept transgender recruits on ...</td>\n",
              "      <td>WASHINGTON Reuters  Transgender people will be...</td>\n",
              "    </tr>\n",
              "    <tr>\n",
              "      <th>2</th>\n",
              "      <td>Senior U.S. Republican senator: 'Let Mr. Muell...</td>\n",
              "      <td>WASHINGTON (Reuters) - The special counsel inv...</td>\n",
              "      <td>politicsNews</td>\n",
              "      <td>December 31, 2017</td>\n",
              "      <td>1</td>\n",
              "      <td>Senior u.s. Republican senator: 'Let Mr. Muell...</td>\n",
              "      <td>WASHINGTON (Reuters) - The special counsel inv...</td>\n",
              "      <td>Senior us Republican senator Let Mr Mueller do...</td>\n",
              "      <td>WASHINGTON Reuters  The special counsel invest...</td>\n",
              "    </tr>\n",
              "    <tr>\n",
              "      <th>3</th>\n",
              "      <td>FBI Russia probe helped by Australian diplomat...</td>\n",
              "      <td>WASHINGTON (Reuters) - Trump campaign adviser ...</td>\n",
              "      <td>politicsNews</td>\n",
              "      <td>December 30, 2017</td>\n",
              "      <td>1</td>\n",
              "      <td>FBI Russia probe helped by Australian diplomat...</td>\n",
              "      <td>WASHINGTON (Reuters) - Trump campaign adviser ...</td>\n",
              "      <td>FBI Russia probe helped by Australian diplomat...</td>\n",
              "      <td>WASHINGTON Reuters  Trump campaign adviser Geo...</td>\n",
              "    </tr>\n",
              "    <tr>\n",
              "      <th>4</th>\n",
              "      <td>Trump wants Postal Service to charge 'much mor...</td>\n",
              "      <td>SEATTLE/WASHINGTON (Reuters) - President Donal...</td>\n",
              "      <td>politicsNews</td>\n",
              "      <td>December 29, 2017</td>\n",
              "      <td>1</td>\n",
              "      <td>Trump wants Postal Service to charge 'much mor...</td>\n",
              "      <td>SEATTLE/WASHINGTON (Reuters) - President Donal...</td>\n",
              "      <td>Trump wants Postal Service to charge much more...</td>\n",
              "      <td>SEATTLEWASHINGTON Reuters  President Donald Tr...</td>\n",
              "    </tr>\n",
              "  </tbody>\n",
              "</table>\n",
              "</div>"
            ],
            "text/plain": [
              "                                               title  ...                                      text_wo_punct\n",
              "0  As U.S. budget fight looms, Republicans flip t...  ...  WASHINGTON Reuters  The head of a conservative...\n",
              "1  U.S. military to accept transgender recruits o...  ...  WASHINGTON Reuters  Transgender people will be...\n",
              "2  Senior U.S. Republican senator: 'Let Mr. Muell...  ...  WASHINGTON Reuters  The special counsel invest...\n",
              "3  FBI Russia probe helped by Australian diplomat...  ...  WASHINGTON Reuters  Trump campaign adviser Geo...\n",
              "4  Trump wants Postal Service to charge 'much mor...  ...  SEATTLEWASHINGTON Reuters  President Donald Tr...\n",
              "\n",
              "[5 rows x 9 columns]"
            ]
          },
          "metadata": {
            "tags": []
          },
          "execution_count": 15
        }
      ]
    },
    {
      "cell_type": "code",
      "metadata": {
        "collapsed": true,
        "colab": {
          "base_uri": "https://localhost:8080/",
          "height": 0
        },
        "id": "48f3b485",
        "outputId": "d269f54e-79ce-436a-893f-9d43c5b2e178"
      },
      "source": [
        "def remove_stopwords(text):\n",
        "    text = text.split()\n",
        "    text=[word for word in text if word not in stopword]\n",
        "    text= ' '.join(text)\n",
        "    return text\n",
        "    \n",
        "# Applies the functions with lambda to do the stated function\n",
        "news['title_wo_stopwords'] = news['title_wo_punct'].apply(lambda x: remove_stopwords(x.lower()))\n",
        "news['text_wo_stopwords'] = news['text_wo_punct'].apply(lambda x: remove_stopwords(x.lower()))\n",
        "\n",
        "news.head()"
      ],
      "id": "48f3b485",
      "execution_count": 16,
      "outputs": [
        {
          "output_type": "execute_result",
          "data": {
            "text/html": [
              "<div>\n",
              "<style scoped>\n",
              "    .dataframe tbody tr th:only-of-type {\n",
              "        vertical-align: middle;\n",
              "    }\n",
              "\n",
              "    .dataframe tbody tr th {\n",
              "        vertical-align: top;\n",
              "    }\n",
              "\n",
              "    .dataframe thead th {\n",
              "        text-align: right;\n",
              "    }\n",
              "</style>\n",
              "<table border=\"1\" class=\"dataframe\">\n",
              "  <thead>\n",
              "    <tr style=\"text-align: right;\">\n",
              "      <th></th>\n",
              "      <th>title</th>\n",
              "      <th>text</th>\n",
              "      <th>subject</th>\n",
              "      <th>date</th>\n",
              "      <th>truth</th>\n",
              "      <th>title_wo_contra</th>\n",
              "      <th>text_wo_contra</th>\n",
              "      <th>title_wo_punct</th>\n",
              "      <th>text_wo_punct</th>\n",
              "      <th>title_wo_stopwords</th>\n",
              "      <th>text_wo_stopwords</th>\n",
              "    </tr>\n",
              "  </thead>\n",
              "  <tbody>\n",
              "    <tr>\n",
              "      <th>0</th>\n",
              "      <td>As U.S. budget fight looms, Republicans flip t...</td>\n",
              "      <td>WASHINGTON (Reuters) - The head of a conservat...</td>\n",
              "      <td>politicsNews</td>\n",
              "      <td>December 31, 2017</td>\n",
              "      <td>1</td>\n",
              "      <td>As u.s. budget fight looms, Republicans flip t...</td>\n",
              "      <td>WASHINGTON (Reuters) - The head of a conservat...</td>\n",
              "      <td>As us budget fight looms Republicans flip thei...</td>\n",
              "      <td>WASHINGTON Reuters  The head of a conservative...</td>\n",
              "      <td>us budget fight looms republicans flip fiscal ...</td>\n",
              "      <td>washington reuters head conservative republica...</td>\n",
              "    </tr>\n",
              "    <tr>\n",
              "      <th>1</th>\n",
              "      <td>U.S. military to accept transgender recruits o...</td>\n",
              "      <td>WASHINGTON (Reuters) - Transgender people will...</td>\n",
              "      <td>politicsNews</td>\n",
              "      <td>December 29, 2017</td>\n",
              "      <td>1</td>\n",
              "      <td>u.s. military to accept transgender recruits o...</td>\n",
              "      <td>WASHINGTON (Reuters) - Transgender people will...</td>\n",
              "      <td>us military to accept transgender recruits on ...</td>\n",
              "      <td>WASHINGTON Reuters  Transgender people will be...</td>\n",
              "      <td>us military accept transgender recruits monday...</td>\n",
              "      <td>washington reuters transgender people allowed ...</td>\n",
              "    </tr>\n",
              "    <tr>\n",
              "      <th>2</th>\n",
              "      <td>Senior U.S. Republican senator: 'Let Mr. Muell...</td>\n",
              "      <td>WASHINGTON (Reuters) - The special counsel inv...</td>\n",
              "      <td>politicsNews</td>\n",
              "      <td>December 31, 2017</td>\n",
              "      <td>1</td>\n",
              "      <td>Senior u.s. Republican senator: 'Let Mr. Muell...</td>\n",
              "      <td>WASHINGTON (Reuters) - The special counsel inv...</td>\n",
              "      <td>Senior us Republican senator Let Mr Mueller do...</td>\n",
              "      <td>WASHINGTON Reuters  The special counsel invest...</td>\n",
              "      <td>senior us republican senator let mr mueller job</td>\n",
              "      <td>washington reuters special counsel investigati...</td>\n",
              "    </tr>\n",
              "    <tr>\n",
              "      <th>3</th>\n",
              "      <td>FBI Russia probe helped by Australian diplomat...</td>\n",
              "      <td>WASHINGTON (Reuters) - Trump campaign adviser ...</td>\n",
              "      <td>politicsNews</td>\n",
              "      <td>December 30, 2017</td>\n",
              "      <td>1</td>\n",
              "      <td>FBI Russia probe helped by Australian diplomat...</td>\n",
              "      <td>WASHINGTON (Reuters) - Trump campaign adviser ...</td>\n",
              "      <td>FBI Russia probe helped by Australian diplomat...</td>\n",
              "      <td>WASHINGTON Reuters  Trump campaign adviser Geo...</td>\n",
              "      <td>fbi russia probe helped australian diplomat ti...</td>\n",
              "      <td>washington reuters trump campaign adviser geor...</td>\n",
              "    </tr>\n",
              "    <tr>\n",
              "      <th>4</th>\n",
              "      <td>Trump wants Postal Service to charge 'much mor...</td>\n",
              "      <td>SEATTLE/WASHINGTON (Reuters) - President Donal...</td>\n",
              "      <td>politicsNews</td>\n",
              "      <td>December 29, 2017</td>\n",
              "      <td>1</td>\n",
              "      <td>Trump wants Postal Service to charge 'much mor...</td>\n",
              "      <td>SEATTLE/WASHINGTON (Reuters) - President Donal...</td>\n",
              "      <td>Trump wants Postal Service to charge much more...</td>\n",
              "      <td>SEATTLEWASHINGTON Reuters  President Donald Tr...</td>\n",
              "      <td>trump wants postal service charge much amazon ...</td>\n",
              "      <td>seattlewashington reuters president donald tru...</td>\n",
              "    </tr>\n",
              "  </tbody>\n",
              "</table>\n",
              "</div>"
            ],
            "text/plain": [
              "                                               title  ...                                  text_wo_stopwords\n",
              "0  As U.S. budget fight looms, Republicans flip t...  ...  washington reuters head conservative republica...\n",
              "1  U.S. military to accept transgender recruits o...  ...  washington reuters transgender people allowed ...\n",
              "2  Senior U.S. Republican senator: 'Let Mr. Muell...  ...  washington reuters special counsel investigati...\n",
              "3  FBI Russia probe helped by Australian diplomat...  ...  washington reuters trump campaign adviser geor...\n",
              "4  Trump wants Postal Service to charge 'much mor...  ...  seattlewashington reuters president donald tru...\n",
              "\n",
              "[5 rows x 11 columns]"
            ]
          },
          "metadata": {
            "tags": []
          },
          "execution_count": 16
        }
      ]
    },
    {
      "cell_type": "code",
      "metadata": {
        "colab": {
          "base_uri": "https://localhost:8080/"
        },
        "id": "fepSvXwuISdZ",
        "outputId": "9f150df4-f565-42a1-e68b-4fe192bae35a"
      },
      "source": [
        "# Removes any formatted quotation marks that the remove contractions function \n",
        "# didn't remove\n",
        "\n",
        "def remove_quotemarks(text):\n",
        "  text = text.replace('“', \"\")\n",
        "  text = text.replace('’', \"\")\n",
        "  text = text.replace('”', \"\")\n",
        "  return text\n",
        " \n",
        "news['filtered_title'] =news['title_wo_stopwords'].apply(lambda x:remove_quotemarks(x)) \n",
        "news['filtered'] =news['text_wo_stopwords'].apply(lambda x:remove_quotemarks(x)) \n",
        "news['filtered']"
      ],
      "id": "fepSvXwuISdZ",
      "execution_count": 17,
      "outputs": [
        {
          "output_type": "execute_result",
          "data": {
            "text/plain": [
              "0        washington reuters head conservative republica...\n",
              "1        washington reuters transgender people allowed ...\n",
              "2        washington reuters special counsel investigati...\n",
              "3        washington reuters trump campaign adviser geor...\n",
              "4        seattlewashington reuters president donald tru...\n",
              "                               ...                        \n",
              "55233    house health care bill something like 2 percen...\n",
              "55234    ronald reagan faced even worse recession curre...\n",
              "55235          mccain campaign elaborate obamas ties acorn\n",
              "55236    obama admitted cap trade plan would electricit...\n",
              "55237    says could take stimulus money required univer...\n",
              "Name: filtered, Length: 55238, dtype: object"
            ]
          },
          "metadata": {
            "tags": []
          },
          "execution_count": 17
        }
      ]
    },
    {
      "cell_type": "code",
      "metadata": {
        "colab": {
          "base_uri": "https://localhost:8080/",
          "height": 0
        },
        "id": "bfb20840",
        "outputId": "4c89adca-5bf3-42fa-a291-54d01257b841"
      },
      "source": [
        "# Deletes all the excess columns and sets the title equal to the preprocessed version \n",
        "\n",
        "news[\"joined_title\"] = news[\"filtered_title\"]\n",
        "news = news.drop([\"title_wo_contra\",\"title_wo_punct\",\"title_wo_stopwords\", \"filtered_title\"], axis=1)\n",
        "news[\"joined_text\"] = news[\"filtered\"]\n",
        "news = news.drop([\"text_wo_contra\",\"text_wo_punct\",\"text_wo_stopwords\", \"filtered\"], axis=1)\n",
        "news.head(10)"
      ],
      "id": "bfb20840",
      "execution_count": 18,
      "outputs": [
        {
          "output_type": "execute_result",
          "data": {
            "text/html": [
              "<div>\n",
              "<style scoped>\n",
              "    .dataframe tbody tr th:only-of-type {\n",
              "        vertical-align: middle;\n",
              "    }\n",
              "\n",
              "    .dataframe tbody tr th {\n",
              "        vertical-align: top;\n",
              "    }\n",
              "\n",
              "    .dataframe thead th {\n",
              "        text-align: right;\n",
              "    }\n",
              "</style>\n",
              "<table border=\"1\" class=\"dataframe\">\n",
              "  <thead>\n",
              "    <tr style=\"text-align: right;\">\n",
              "      <th></th>\n",
              "      <th>title</th>\n",
              "      <th>text</th>\n",
              "      <th>subject</th>\n",
              "      <th>date</th>\n",
              "      <th>truth</th>\n",
              "      <th>joined_title</th>\n",
              "      <th>joined_text</th>\n",
              "    </tr>\n",
              "  </thead>\n",
              "  <tbody>\n",
              "    <tr>\n",
              "      <th>0</th>\n",
              "      <td>As U.S. budget fight looms, Republicans flip t...</td>\n",
              "      <td>WASHINGTON (Reuters) - The head of a conservat...</td>\n",
              "      <td>politicsNews</td>\n",
              "      <td>December 31, 2017</td>\n",
              "      <td>1</td>\n",
              "      <td>us budget fight looms republicans flip fiscal ...</td>\n",
              "      <td>washington reuters head conservative republica...</td>\n",
              "    </tr>\n",
              "    <tr>\n",
              "      <th>1</th>\n",
              "      <td>U.S. military to accept transgender recruits o...</td>\n",
              "      <td>WASHINGTON (Reuters) - Transgender people will...</td>\n",
              "      <td>politicsNews</td>\n",
              "      <td>December 29, 2017</td>\n",
              "      <td>1</td>\n",
              "      <td>us military accept transgender recruits monday...</td>\n",
              "      <td>washington reuters transgender people allowed ...</td>\n",
              "    </tr>\n",
              "    <tr>\n",
              "      <th>2</th>\n",
              "      <td>Senior U.S. Republican senator: 'Let Mr. Muell...</td>\n",
              "      <td>WASHINGTON (Reuters) - The special counsel inv...</td>\n",
              "      <td>politicsNews</td>\n",
              "      <td>December 31, 2017</td>\n",
              "      <td>1</td>\n",
              "      <td>senior us republican senator let mr mueller job</td>\n",
              "      <td>washington reuters special counsel investigati...</td>\n",
              "    </tr>\n",
              "    <tr>\n",
              "      <th>3</th>\n",
              "      <td>FBI Russia probe helped by Australian diplomat...</td>\n",
              "      <td>WASHINGTON (Reuters) - Trump campaign adviser ...</td>\n",
              "      <td>politicsNews</td>\n",
              "      <td>December 30, 2017</td>\n",
              "      <td>1</td>\n",
              "      <td>fbi russia probe helped australian diplomat ti...</td>\n",
              "      <td>washington reuters trump campaign adviser geor...</td>\n",
              "    </tr>\n",
              "    <tr>\n",
              "      <th>4</th>\n",
              "      <td>Trump wants Postal Service to charge 'much mor...</td>\n",
              "      <td>SEATTLE/WASHINGTON (Reuters) - President Donal...</td>\n",
              "      <td>politicsNews</td>\n",
              "      <td>December 29, 2017</td>\n",
              "      <td>1</td>\n",
              "      <td>trump wants postal service charge much amazon ...</td>\n",
              "      <td>seattlewashington reuters president donald tru...</td>\n",
              "    </tr>\n",
              "    <tr>\n",
              "      <th>5</th>\n",
              "      <td>White House, Congress prepare for talks on spe...</td>\n",
              "      <td>WEST PALM BEACH, Fla./WASHINGTON (Reuters) - T...</td>\n",
              "      <td>politicsNews</td>\n",
              "      <td>December 29, 2017</td>\n",
              "      <td>1</td>\n",
              "      <td>white house congress prepare talks spending im...</td>\n",
              "      <td>west palm beach flawashington reuters white ho...</td>\n",
              "    </tr>\n",
              "    <tr>\n",
              "      <th>6</th>\n",
              "      <td>Trump says Russia probe will be fair, but time...</td>\n",
              "      <td>WEST PALM BEACH, Fla (Reuters) - President Don...</td>\n",
              "      <td>politicsNews</td>\n",
              "      <td>December 29, 2017</td>\n",
              "      <td>1</td>\n",
              "      <td>trump says russia probe fair timeline unclear nyt</td>\n",
              "      <td>west palm beach fla reuters president donald t...</td>\n",
              "    </tr>\n",
              "    <tr>\n",
              "      <th>7</th>\n",
              "      <td>Factbox: Trump on Twitter (Dec 29) - Approval ...</td>\n",
              "      <td>The following statements were posted to the ve...</td>\n",
              "      <td>politicsNews</td>\n",
              "      <td>December 29, 2017</td>\n",
              "      <td>1</td>\n",
              "      <td>factbox trump twitter dec 29 approval rating a...</td>\n",
              "      <td>following statements posted verified twitter a...</td>\n",
              "    </tr>\n",
              "    <tr>\n",
              "      <th>8</th>\n",
              "      <td>Trump on Twitter (Dec 28) - Global Warming</td>\n",
              "      <td>The following statements were posted to the ve...</td>\n",
              "      <td>politicsNews</td>\n",
              "      <td>December 29, 2017</td>\n",
              "      <td>1</td>\n",
              "      <td>trump twitter dec 28 global warming</td>\n",
              "      <td>following statements posted verified twitter a...</td>\n",
              "    </tr>\n",
              "    <tr>\n",
              "      <th>9</th>\n",
              "      <td>Alabama official to certify Senator-elect Jone...</td>\n",
              "      <td>WASHINGTON (Reuters) - Alabama Secretary of St...</td>\n",
              "      <td>politicsNews</td>\n",
              "      <td>December 28, 2017</td>\n",
              "      <td>1</td>\n",
              "      <td>alabama official certify senatorelect jones to...</td>\n",
              "      <td>washington reuters alabama secretary state joh...</td>\n",
              "    </tr>\n",
              "  </tbody>\n",
              "</table>\n",
              "</div>"
            ],
            "text/plain": [
              "                                               title  ...                                        joined_text\n",
              "0  As U.S. budget fight looms, Republicans flip t...  ...  washington reuters head conservative republica...\n",
              "1  U.S. military to accept transgender recruits o...  ...  washington reuters transgender people allowed ...\n",
              "2  Senior U.S. Republican senator: 'Let Mr. Muell...  ...  washington reuters special counsel investigati...\n",
              "3  FBI Russia probe helped by Australian diplomat...  ...  washington reuters trump campaign adviser geor...\n",
              "4  Trump wants Postal Service to charge 'much mor...  ...  seattlewashington reuters president donald tru...\n",
              "5  White House, Congress prepare for talks on spe...  ...  west palm beach flawashington reuters white ho...\n",
              "6  Trump says Russia probe will be fair, but time...  ...  west palm beach fla reuters president donald t...\n",
              "7  Factbox: Trump on Twitter (Dec 29) - Approval ...  ...  following statements posted verified twitter a...\n",
              "8         Trump on Twitter (Dec 28) - Global Warming  ...  following statements posted verified twitter a...\n",
              "9  Alabama official to certify Senator-elect Jone...  ...  washington reuters alabama secretary state joh...\n",
              "\n",
              "[10 rows x 7 columns]"
            ]
          },
          "metadata": {
            "tags": []
          },
          "execution_count": 18
        }
      ]
    },
    {
      "cell_type": "markdown",
      "metadata": {
        "id": "KiABEVIpdnU_"
      },
      "source": [
        "## Visualization"
      ],
      "id": "KiABEVIpdnU_"
    },
    {
      "cell_type": "code",
      "metadata": {
        "id": "ytDk-XWXT1km"
      },
      "source": [
        "# Wordcloud of title, text in True news\n",
        "import wordcloud\n",
        "# Cleaned dataframe of True labels\n",
        "df_true = news[news.truth == 1]\n",
        "\n",
        "title_true = \" \".join(tit for tit in df_true['title'])\n",
        "text_true = \" \".join(txt for txt in df_true['text'])\n",
        "\n",
        "plt.figure(figsize=(40, 30))\n",
        "\n",
        "# Title\n",
        "title_cloud = wordcloud.WordCloud(collocations=False, background_color='black').generate(title_true)\n",
        "plt.subplot(1, 2, 1)\n",
        "plt.axis(\"off\")\n",
        "plt.title(\"Title\", fontsize=40)\n",
        "plt.imshow(title_cloud, interpolation='bilinear')\n",
        "\n",
        "# Title\n",
        "text_cloud = wordcloud.WordCloud(collocations=False, background_color='black').generate(text_true)\n",
        "plt.subplot(1, 2, 2)\n",
        "plt.axis(\"off\")\n",
        "plt.title(\"Text\", fontsize=40)\n",
        "plt.imshow(text_cloud, interpolation='bilinear')\n"
      ],
      "id": "ytDk-XWXT1km",
      "execution_count": null,
      "outputs": []
    },
    {
      "cell_type": "code",
      "metadata": {
        "id": "VFMY_u-aUcFP"
      },
      "source": [
        "# Wordcloud of title, text in Fake news\n",
        "\n",
        "# Cleaned dataframe of Fake labels\n",
        "\n",
        "df_fake = news[news.truth == 0]\n",
        "\n",
        "title_fake = \" \".join(tit for tit in df_fake['title'])\n",
        "text_fake = \" \".join(txt for txt in df_fake['text'])\n",
        "\n",
        "plt.figure(figsize=(40, 30))\n",
        "\n",
        "# Title\n",
        "title_cloud = wordcloud.WordCloud(collocations=False, background_color='black').generate(title_fake)\n",
        "plt.subplot(1, 2, 1)\n",
        "plt.axis(\"off\")\n",
        "plt.title(\"Title\", fontsize=40)\n",
        "plt.imshow(title_cloud, interpolation='bilinear')\n",
        "\n",
        "# Title\n",
        "text_cloud = wordcloud.WordCloud(collocations=False, background_color='black').generate(text_fake)\n",
        "plt.subplot(1, 2, 2)\n",
        "plt.axis(\"off\")\n",
        "plt.title(\"Text\", fontsize=40)\n",
        "plt.imshow(text_cloud, interpolation='bilinear')"
      ],
      "id": "VFMY_u-aUcFP",
      "execution_count": null,
      "outputs": []
    },
    {
      "cell_type": "markdown",
      "metadata": {
        "id": "_2GrAX6dFDaj"
      },
      "source": [
        "# **Model**"
      ],
      "id": "_2GrAX6dFDaj"
    },
    {
      "cell_type": "markdown",
      "metadata": {
        "id": "k4L86qFcsIBN"
      },
      "source": [
        "## **Vectorization/Model**"
      ],
      "id": "k4L86qFcsIBN"
    },
    {
      "cell_type": "code",
      "metadata": {
        "id": "JsxogL9dMZOb"
      },
      "source": [
        "y = news['truth']\n",
        "y = y.astype('int') #Some of the y values are \"objects\", so this converts it to int\n",
        "X = news['joined_text']\n",
        "\n",
        "\n",
        "\n",
        "X_train, X_test, y_train, y_test = train_test_split(X, y, test_size=0.2, random_state=42) #Splits the data\n"
      ],
      "id": "JsxogL9dMZOb",
      "execution_count": null,
      "outputs": []
    },
    {
      "cell_type": "code",
      "metadata": {
        "id": "poW7M-iMeMZd"
      },
      "source": [
        "from sklearn.naive_bayes import MultinomialNB\n",
        "\n",
        "# Pipeline makes it easy to predict; no direct vectorization needed\n",
        "# Can be all applied in one line\n",
        "\n",
        "text_clf = Pipeline([('vect', TfidfVectorizer(ngram_range=(2,3), binary=True)),\n",
        "                  ('tfidf', TfidfTransformer()),\n",
        "                  ('clf', MultinomialNB())])\n",
        "\n",
        "\n",
        "text_clf = text_clf.fit(X_train, y_train)\n"
      ],
      "id": "poW7M-iMeMZd",
      "execution_count": null,
      "outputs": []
    },
    {
      "cell_type": "markdown",
      "metadata": {
        "id": "xH90O5dLsoFw"
      },
      "source": [
        "##**ML Model Scoring**"
      ],
      "id": "xH90O5dLsoFw"
    },
    {
      "cell_type": "code",
      "metadata": {
        "id": "0thfL1_uc0za"
      },
      "source": [
        "# Train score\n",
        "text_clf.score(X_train, y_train)\n"
      ],
      "id": "0thfL1_uc0za",
      "execution_count": null,
      "outputs": []
    },
    {
      "cell_type": "code",
      "metadata": {
        "id": "9BuPJ81ydHVw"
      },
      "source": [
        "# Test score\n",
        "text_clf.score(X_test, y_test)"
      ],
      "id": "9BuPJ81ydHVw",
      "execution_count": null,
      "outputs": []
    },
    {
      "cell_type": "markdown",
      "metadata": {
        "id": "-VQaa3N2fJfu"
      },
      "source": [
        "## **Precision and Recall Visualization**"
      ],
      "id": "-VQaa3N2fJfu"
    },
    {
      "cell_type": "code",
      "metadata": {
        "id": "G8nMDCobfVd0"
      },
      "source": [
        "from sklearn.metrics import confusion_matrix\n",
        "from sklearn.metrics import classification_report"
      ],
      "id": "G8nMDCobfVd0",
      "execution_count": null,
      "outputs": []
    },
    {
      "cell_type": "code",
      "metadata": {
        "id": "5JLm-kCgf4ic"
      },
      "source": [
        "y_predict_train = text_clf.predict(X_train)\n",
        "y_predict_test = text_clf.predict(X_test)"
      ],
      "id": "5JLm-kCgf4ic",
      "execution_count": null,
      "outputs": []
    },
    {
      "cell_type": "code",
      "metadata": {
        "id": "A_LSjJL4lc9B"
      },
      "source": [
        "cm = confusion_matrix(y_test, y_predict_test)\n",
        "\n",
        "group_names = ['True Neg', 'False Pos', 'False Neg', 'True Pos']\n",
        "group_counts = [\"{0:0.0f}\".format(value) for value in\n",
        "                cm.flatten()]\n",
        "group_percentages = [\"{0:.2%}\".format(value) for value in\n",
        "                     cm.flatten()/np.sum(cm)]\n",
        "labels = [f\"{v1}\\n{v2}\\n{v3}\" for v1, v2, v3 in\n",
        "          zip(group_names,group_counts,group_percentages)]\n",
        "labels = np.asarray(labels).reshape(2,2)\n",
        "sns.heatmap(cm, annot=labels, fmt='', cmap='PuRd')"
      ],
      "id": "A_LSjJL4lc9B",
      "execution_count": null,
      "outputs": []
    },
    {
      "cell_type": "code",
      "metadata": {
        "id": "-_3mp_HHeX27"
      },
      "source": [
        "cr = classification_report(y_test, y_predict_test, output_dict= True)\n",
        "cr = pd.DataFrame(cr).transpose()\n",
        "cr"
      ],
      "id": "-_3mp_HHeX27",
      "execution_count": null,
      "outputs": []
    },
    {
      "cell_type": "markdown",
      "metadata": {
        "id": "RJyyJVx2F8Q-"
      },
      "source": [
        "# **Input**"
      ],
      "id": "RJyyJVx2F8Q-"
    },
    {
      "cell_type": "markdown",
      "metadata": {
        "id": "cLFLEmsjuL09"
      },
      "source": [
        "## **Input (manual)**"
      ],
      "id": "cLFLEmsjuL09"
    },
    {
      "cell_type": "code",
      "metadata": {
        "id": "D9JWnF5nbpzj"
      },
      "source": [
        "# Manual input\n",
        "# Enter values into list\n",
        "text_sample = [\"We have a record 9.3 million job openings in the U.S.\", \"You can vote below the age of 18\", \"Hillary Clinton won presidency\"]\n",
        "df = pd.DataFrame(text_sample, columns= ['text'])\n",
        "df2 = df.copy()\n",
        "df"
      ],
      "id": "D9JWnF5nbpzj",
      "execution_count": null,
      "outputs": []
    },
    {
      "cell_type": "code",
      "metadata": {
        "id": "ATn9pGpLkt7-"
      },
      "source": [
        "text_clf.predict(text_sample)"
      ],
      "id": "ATn9pGpLkt7-",
      "execution_count": null,
      "outputs": []
    },
    {
      "cell_type": "markdown",
      "metadata": {
        "id": "onKbR5wwnBrn"
      },
      "source": [
        "## **Input (scraped)**"
      ],
      "id": "onKbR5wwnBrn"
    },
    {
      "cell_type": "code",
      "metadata": {
        "id": "FiK5m1Pjndb0"
      },
      "source": [
        "from bs4 import BeautifulSoup\n",
        "import urllib.request,sys,time\n",
        "import requests\n",
        "import urllib"
      ],
      "id": "FiK5m1Pjndb0",
      "execution_count": null,
      "outputs": []
    },
    {
      "cell_type": "code",
      "metadata": {
        "id": "xU6er95vo5es"
      },
      "source": [
        "page = \"\"\n",
        "\n",
        "# Type of news Input statement\n",
        "# Try and except to make sure user gives an integer value\n",
        "try:\n",
        "  ton = int(input(\"What type of news to input into the model?:\\n1: True\\n2: Mostly True\\n3: Half True\\n4: Barely True\\n5: False\\n6: Extremely False\\n\"))\n",
        "except ValueError:\n",
        "  print(\"Enter a number!\")\n",
        "if ton == 1:\n",
        "  page = \"true\"\n",
        "elif ton == 2:\n",
        "  page= 'mostly-true'\n",
        "elif ton == 3:\n",
        "  page= 'half-true'\n",
        "elif ton == 4:\n",
        "  page= 'barely-true'\n",
        "elif ton == 5:\n",
        "  page = 'false'\n",
        "elif ton == 6:\n",
        "  page = \"pants-fire\"\n",
        "else:\n",
        "  print(\"Not valid!\")\n",
        "\n",
        "# Append the sub-url that the user choses to the parent url\n",
        "\n",
        "url = 'https://www.politifact.com/factchecks/list/?ruling='+ str(page) \n",
        "\n",
        "print(\"Data source: \"+ url)"
      ],
      "id": "xU6er95vo5es",
      "execution_count": null,
      "outputs": []
    },
    {
      "cell_type": "code",
      "metadata": {
        "id": "CQpWDhQYo-G-"
      },
      "source": [
        "def getdata(url): \n",
        "    r = requests.get(url) \n",
        "    return r.text \n",
        "\n",
        "page = getdata(url)\n",
        "soup = BeautifulSoup(page, \"html.parser\")\n",
        "\n",
        "\n",
        "data = '' \n",
        "lst = []\n",
        "\n",
        "# Finds all the text that are located in the element that the claims are located\n",
        "for data in soup.find_all(\"div\",attrs={\"class\":\"m-statement__quote\"}): \n",
        "  lst.append(data.get_text()) \n",
        "\n",
        "new_list = [s.replace(\"\\n\", \"\") for s in lst]\n",
        "res = []\n",
        "\n",
        "# Filters out duplicates\n",
        "for i in new_list:\n",
        "    if i not in res:\n",
        "        res.append(i)"
      ],
      "id": "CQpWDhQYo-G-",
      "execution_count": null,
      "outputs": []
    },
    {
      "cell_type": "code",
      "metadata": {
        "id": "DA5Umu6epC9N"
      },
      "source": [
        "# Makes the list that will show the values of the truth in the DataFrame\n",
        "if ton == 1:\n",
        "  cat = ['true']\n",
        "elif ton == 2:\n",
        "  cat= ['mostly true']\n",
        "elif ton == 3:\n",
        "  cat= ['half true']\n",
        "elif ton == 4:\n",
        "  cat= ['barely true']\n",
        "elif ton == 5:\n",
        "  cat = ['false']\n",
        "elif ton == 6:\n",
        "  cat = [\"extremely false\"]\n",
        "else:\n",
        "  print(\"invalid\")\n",
        "cat*=len(res) # \n",
        "\n",
        "\n",
        "# Converts the lists of text and truths of that text into a DataFrame\n",
        "d = {'text':res,'truth':cat}\n",
        "df = pd.DataFrame(data = d)"
      ],
      "id": "DA5Umu6epC9N",
      "execution_count": null,
      "outputs": []
    },
    {
      "cell_type": "code",
      "metadata": {
        "id": "xc68FAvxpFAX"
      },
      "source": [
        "# Creates a copy so we can access the original later to display\n",
        "df1 = df.copy()"
      ],
      "id": "xc68FAvxpFAX",
      "execution_count": null,
      "outputs": []
    },
    {
      "cell_type": "markdown",
      "metadata": {
        "id": "R-ruUiml5yq6"
      },
      "source": [
        "# **Prediction**"
      ],
      "id": "R-ruUiml5yq6"
    },
    {
      "cell_type": "markdown",
      "metadata": {
        "id": "BbCnT2kjs1NN"
      },
      "source": [
        "## **Preprocessing (Input)**\n",
        "\n",
        "same functions with slightly different changes"
      ],
      "id": "BbCnT2kjs1NN"
    },
    {
      "cell_type": "code",
      "metadata": {
        "id": "AfYZATuEoYxa"
      },
      "source": [
        "def remove_contractions(text):\n",
        "  fixed_word = []\n",
        "  for word in text.split():\n",
        "    fixed_word.append(cot.fix(word))\n",
        "  counter = 0\n",
        "  for i in fixed_word:\n",
        "    if i != fixed_word[0]:\n",
        "      counter+=1\n",
        "    if i == \"you.S.\":\n",
        "      fixed_word[counter] = \"u.s.\"\n",
        "    if i == \"yous\":\n",
        "      fixed_word[counter] = \"u.s.\"\n",
        "  fixed_whole =' '.join(fixed_word)\n",
        "  return fixed_whole\n",
        "\n",
        "\n",
        "df['text_wo_contra']=df['text'].apply(lambda x: remove_contractions(x))"
      ],
      "id": "AfYZATuEoYxa",
      "execution_count": null,
      "outputs": []
    },
    {
      "cell_type": "code",
      "metadata": {
        "id": "6u-K8hbKxgQ0"
      },
      "source": [
        "def remove_punctuation(text):\n",
        "    no_punct=[words for words in text if words not in string.punctuation]\n",
        "    words_wo_punct=''.join(no_punct)\n",
        "    return words_wo_punct\n",
        "df['text_wo_punct']=df['text_wo_contra'].apply(lambda x: remove_punctuation(x))"
      ],
      "id": "6u-K8hbKxgQ0",
      "execution_count": null,
      "outputs": []
    },
    {
      "cell_type": "code",
      "metadata": {
        "id": "LCAdIWR0xn2R"
      },
      "source": [
        "def remove_stopwords(text):\n",
        "    text = text.split()\n",
        "    text=[word for word in text if word not in stopword]\n",
        "    text= ' '.join(text)\n",
        "    return text\n",
        "\n",
        "df['text_wo_punct_wo_stopwords'] = df['text_wo_punct'].apply(lambda x: remove_stopwords(x.lower()))\n",
        "df.head()"
      ],
      "id": "LCAdIWR0xn2R",
      "execution_count": null,
      "outputs": []
    },
    {
      "cell_type": "code",
      "metadata": {
        "id": "QmX-nQtO_8T3"
      },
      "source": [
        "def remove_quotemarks(text):\n",
        "  text = text.replace('“', \"\")\n",
        "  text = text.replace('’', \"\")\n",
        "  text = text.replace('”', \"\")\n",
        "  return text\n",
        "df['filtered'] =df['text_wo_punct_wo_stopwords'].apply(lambda x:remove_quotemarks(x)) \n",
        "df['filtered']"
      ],
      "id": "QmX-nQtO_8T3",
      "execution_count": null,
      "outputs": []
    },
    {
      "cell_type": "code",
      "metadata": {
        "id": "Lxb1TALixn76"
      },
      "source": [
        "df[\"joined\"] = df[\"filtered\"]\n",
        "df = df.drop([\"text_wo_contra\",\"text_wo_punct\",\"text_wo_punct_wo_stopwords\", \"filtered\"], axis=1)\n",
        "df.head(10)"
      ],
      "id": "Lxb1TALixn76",
      "execution_count": null,
      "outputs": []
    },
    {
      "cell_type": "markdown",
      "metadata": {
        "id": "x6hiHxGdxeDd"
      },
      "source": [
        "## **Model, Vectorization, Prediction, and Confusion Matrix** (Scraped)"
      ],
      "id": "x6hiHxGdxeDd"
    },
    {
      "cell_type": "code",
      "metadata": {
        "id": "rptFFPLjyO_U"
      },
      "source": [
        "tmp = df[\"joined\"]\n",
        "\n",
        "text_sample = pd.Series.tolist(tmp) # Makes the sample text a list so it can be accessed\n",
        "\n",
        "\n",
        "sample_predict = text_clf.predict(text_sample)\n",
        "\n",
        "# The predicted values become a list so they can be inputed into the DataFrame\n",
        "\n",
        "df1['predicted'] = sample_predict.tolist()\n",
        "\n",
        "\n",
        "\n",
        "df1.head(6)"
      ],
      "id": "rptFFPLjyO_U",
      "execution_count": null,
      "outputs": []
    },
    {
      "cell_type": "code",
      "metadata": {
        "id": "oipHjFVimWj7"
      },
      "source": [
        "df3 = df1.copy()\n",
        "\n",
        "# Replaces the values with their corresponding binary value\n",
        "df3['truth'].mask(df3['truth'] == 'false', 0, inplace=True)\n",
        "df3['truth'].mask(df3['truth'] == 'barely true', 0, inplace=True)\n",
        "df3['truth'].mask(df3['truth'] == 'extremely false', 0, inplace=True)\n",
        "df3['truth'].mask(df3['truth'] == 'half true', 0, inplace=True)\n",
        "df3['truth'].mask(df1['truth'] == 'true', 1, inplace=True)\n",
        "df3['truth'].mask(df1['truth'] == 'mostly true', 1, inplace=True)\n",
        "a = df3['truth'].tolist()\n",
        "b = df3['predicted'].tolist()\n",
        "\n"
      ],
      "id": "oipHjFVimWj7",
      "execution_count": null,
      "outputs": []
    },
    {
      "cell_type": "code",
      "metadata": {
        "id": "tCoxW9A-yMzT"
      },
      "source": [
        "true_negative = 0\n",
        "false_negative = 0\n",
        "true_positive = 0\n",
        "false_positive = 0\n",
        "\n",
        "# Gets the values of the confusion matrix\n",
        "for i, j in zip(a, b):\n",
        "  if i == j and i == 0:\n",
        "    true_negative+=1\n",
        "  elif i == j and i == 1:\n",
        "    true_positive+=1\n",
        "  elif i != j and j == 0:\n",
        "    false_negative+=1\n",
        "  elif i != j and j == 1:\n",
        "    false_positive+=1\n"
      ],
      "id": "tCoxW9A-yMzT",
      "execution_count": null,
      "outputs": []
    },
    {
      "cell_type": "code",
      "metadata": {
        "id": "n-AReHKW2P_I"
      },
      "source": [
        "# Creates the blank confusion matrix\n",
        "matrix = pd.DataFrame(columns=['negative', 'positive'], index=['negative', 'positive'])\n",
        "\n",
        "# Sets the values of the previous cell to their correct position on the matrix\n",
        "matrix['negative']['negative'] = true_negative\n",
        "matrix['positive']['positive'] = true_positive\n",
        "matrix['negative']['positive'] = false_negative\n",
        "matrix['positive']['negative'] = false_positive\n",
        "\n",
        "# NOTE: Columns is predicted and indexs are actual value\n",
        "matrix"
      ],
      "id": "n-AReHKW2P_I",
      "execution_count": null,
      "outputs": []
    },
    {
      "cell_type": "code",
      "metadata": {
        "id": "zuGOOvlT3Kaf"
      },
      "source": [
        "df1['predicted'].mask(df1['predicted'] == 0, 'false', inplace=True)\n",
        "df1['predicted'].mask(df1['predicted'] == 1, 'true', inplace=True)\n",
        "df1.head()"
      ],
      "id": "zuGOOvlT3Kaf",
      "execution_count": null,
      "outputs": []
    },
    {
      "cell_type": "markdown",
      "metadata": {
        "id": "ISEb-V2eF_9V"
      },
      "source": [
        "##  **Model, Vectorization, Prediction** (Manual)"
      ],
      "id": "ISEb-V2eF_9V"
    },
    {
      "cell_type": "code",
      "metadata": {
        "id": "30rGEQk_GQwH"
      },
      "source": [
        "tmp = df[\"joined\"]\n",
        "text_sample = pd.Series.tolist(tmp)\n",
        "\n",
        "sample_predict = text_clf.predict(text_sample)\n",
        "\n",
        "df2['predicted'] = sample_predict.tolist()\n",
        "df2['predicted'].mask(df2['predicted'] == 0, 'false', inplace=True)\n",
        "df2['predicted'].mask(df2['predicted'] == 1, 'true', inplace=True)\n",
        "\n",
        "df2"
      ],
      "id": "30rGEQk_GQwH",
      "execution_count": null,
      "outputs": []
    }
  ]
}